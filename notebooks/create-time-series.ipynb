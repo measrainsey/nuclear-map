{
 "cells": [
  {
   "cell_type": "markdown",
   "metadata": {},
   "source": [
    "# Create time series of nuclear capacity installments and retirements"
   ]
  },
  {
   "cell_type": "markdown",
   "metadata": {},
   "source": [
    "Because the map we're creating requires the use of a time slider that goes through a span of years, we need to create a data file that has the nuclear capacity for every year."
   ]
  },
  {
   "cell_type": "markdown",
   "metadata": {},
   "source": [
    "### Import libaries"
   ]
  },
  {
   "cell_type": "markdown",
   "metadata": {},
   "source": [
    "I'm going to be using pandas to read in the Excel spreadsheets as dataframes and then analyze the dataframes. I'm also going to lightly use numpy for some light work."
   ]
  },
  {
   "cell_type": "code",
   "execution_count": 1,
   "metadata": {},
   "outputs": [],
   "source": [
    "import pandas as pd\n",
    "import numpy as np"
   ]
  },
  {
   "cell_type": "markdown",
   "metadata": {},
   "source": [
    "### Change working directory of notebook"
   ]
  },
  {
   "cell_type": "markdown",
   "metadata": {},
   "source": [
    "Currently, the working directory is the same as where the notebook is located, so I'm going to change the working directory to the main folder instead."
   ]
  },
  {
   "cell_type": "code",
   "execution_count": 2,
   "metadata": {},
   "outputs": [
    {
     "name": "stdout",
     "output_type": "stream",
     "text": [
      "/Users/MEAS/GitHub/nuclear-map\n"
     ]
    }
   ],
   "source": [
    "%cd .."
   ]
  },
  {
   "cell_type": "markdown",
   "metadata": {},
   "source": [
    "## EIA 860 data "
   ]
  },
  {
   "cell_type": "markdown",
   "metadata": {},
   "source": [
    "I've already included all the needed data in the **\"data\"** folder, but you can go out and download the data for yourself at the [EIA 860 website](https://www.eia.gov/electricity/data/eia860/) if you would like. After you unzip the downloaded file, you can explore the various Excel files included in the dataset. The ones relevant to this analysis are the ``3_1_Generator_Y2018.xlsx`` and ``2___Plant_Y2018.xlsx`` files. The ``LayoutY2018.xlsx`` is helpful for understanding what different acronyms and codes in the dataset mean."
   ]
  },
  {
   "cell_type": "markdown",
   "metadata": {},
   "source": [
    "### Currently operating nuclear generators"
   ]
  },
  {
   "cell_type": "markdown",
   "metadata": {},
   "source": [
    "The first sheet in the ``3_1_Generator_Y2018.xlsx`` file, named ``Operable``, includes all currently operating (in the year 2018) electricity generators in the US. This includes generators that are **planned for retirement** after 2018 as well. The spreadsheet includes a lot of information on each generator, but the columns that are relevant for this map are:\n",
    " * Plant Code:\n",
    " * Plant Name:\n",
    " * Generator ID: \n",
    " * Technology: \n",
    " * Capacity: \n",
    " * Operating Month: \n",
    " * Operating Year: \n",
    " * Retirement Month: \n",
    " * Retirement Year: \n",
    " "
   ]
  },
  {
   "cell_type": "code",
   "execution_count": 3,
   "metadata": {},
   "outputs": [],
   "source": [
    "# read in spreadsheet of currently operating generators\n",
    "eia_op = pd.read_excel('data/3_1_Generator_Y2018.xlsx', \n",
    "                          sheet_name = 'Operable', \n",
    "                          skiprows = 1, \n",
    "                          skipfooter = 1,\n",
    "                          usecols = [2,3,6,7,15,25,26,27,28],\n",
    "                          names = [\"plant_code\", \"plant_name\", \n",
    "                                   \"gen_id\", \"technology\", \n",
    "                                   \"capacity\", \"op_month\", \n",
    "                                   \"op_year\", \"ret_month\", \n",
    "                                   \"ret_year\"])"
   ]
  },
  {
   "cell_type": "markdown",
   "metadata": {},
   "source": [
    "Filter to keep the generators that are labeled as having \"Nuclear\" as the technology."
   ]
  },
  {
   "cell_type": "code",
   "execution_count": 4,
   "metadata": {},
   "outputs": [],
   "source": [
    "# only keep nuclear plants\n",
    "eia_op = eia_op[eia_op.technology == 'Nuclear']"
   ]
  },
  {
   "cell_type": "code",
   "execution_count": 5,
   "metadata": {},
   "outputs": [
    {
     "data": {
      "text/html": [
       "<div>\n",
       "<style scoped>\n",
       "    .dataframe tbody tr th:only-of-type {\n",
       "        vertical-align: middle;\n",
       "    }\n",
       "\n",
       "    .dataframe tbody tr th {\n",
       "        vertical-align: top;\n",
       "    }\n",
       "\n",
       "    .dataframe thead th {\n",
       "        text-align: right;\n",
       "    }\n",
       "</style>\n",
       "<table border=\"1\" class=\"dataframe\">\n",
       "  <thead>\n",
       "    <tr style=\"text-align: right;\">\n",
       "      <th></th>\n",
       "      <th>plant_code</th>\n",
       "      <th>plant_name</th>\n",
       "      <th>gen_id</th>\n",
       "      <th>technology</th>\n",
       "      <th>capacity</th>\n",
       "      <th>op_month</th>\n",
       "      <th>op_year</th>\n",
       "      <th>ret_month</th>\n",
       "      <th>ret_year</th>\n",
       "    </tr>\n",
       "  </thead>\n",
       "  <tbody>\n",
       "    <tr>\n",
       "      <td>81</td>\n",
       "      <td>46</td>\n",
       "      <td>Browns Ferry</td>\n",
       "      <td>1</td>\n",
       "      <td>Nuclear</td>\n",
       "      <td>1152.0</td>\n",
       "      <td>8</td>\n",
       "      <td>1974</td>\n",
       "      <td></td>\n",
       "      <td></td>\n",
       "    </tr>\n",
       "    <tr>\n",
       "      <td>82</td>\n",
       "      <td>46</td>\n",
       "      <td>Browns Ferry</td>\n",
       "      <td>2</td>\n",
       "      <td>Nuclear</td>\n",
       "      <td>1152.0</td>\n",
       "      <td>3</td>\n",
       "      <td>1975</td>\n",
       "      <td></td>\n",
       "      <td></td>\n",
       "    </tr>\n",
       "    <tr>\n",
       "      <td>83</td>\n",
       "      <td>46</td>\n",
       "      <td>Browns Ferry</td>\n",
       "      <td>3</td>\n",
       "      <td>Nuclear</td>\n",
       "      <td>1190.0</td>\n",
       "      <td>3</td>\n",
       "      <td>1977</td>\n",
       "      <td></td>\n",
       "      <td></td>\n",
       "    </tr>\n",
       "    <tr>\n",
       "      <td>388</td>\n",
       "      <td>204</td>\n",
       "      <td>Clinton Power Station</td>\n",
       "      <td>1</td>\n",
       "      <td>Nuclear</td>\n",
       "      <td>1138.3</td>\n",
       "      <td>11</td>\n",
       "      <td>1987</td>\n",
       "      <td></td>\n",
       "      <td></td>\n",
       "    </tr>\n",
       "    <tr>\n",
       "      <td>389</td>\n",
       "      <td>210</td>\n",
       "      <td>Wolf Creek Generating Station</td>\n",
       "      <td>1</td>\n",
       "      <td>Nuclear</td>\n",
       "      <td>1267.7</td>\n",
       "      <td>9</td>\n",
       "      <td>1985</td>\n",
       "      <td></td>\n",
       "      <td></td>\n",
       "    </tr>\n",
       "  </tbody>\n",
       "</table>\n",
       "</div>"
      ],
      "text/plain": [
       "     plant_code                     plant_name gen_id technology  capacity  \\\n",
       "81           46                   Browns Ferry      1    Nuclear    1152.0   \n",
       "82           46                   Browns Ferry      2    Nuclear    1152.0   \n",
       "83           46                   Browns Ferry      3    Nuclear    1190.0   \n",
       "388         204          Clinton Power Station      1    Nuclear    1138.3   \n",
       "389         210  Wolf Creek Generating Station      1    Nuclear    1267.7   \n",
       "\n",
       "     op_month  op_year ret_month ret_year  \n",
       "81          8     1974                     \n",
       "82          3     1975                     \n",
       "83          3     1977                     \n",
       "388        11     1987                     \n",
       "389         9     1985                     "
      ]
     },
     "execution_count": 5,
     "metadata": {},
     "output_type": "execute_result"
    }
   ],
   "source": [
    "eia_op.head()"
   ]
  },
  {
   "cell_type": "markdown",
   "metadata": {},
   "source": [
    "This isn't reflected in the 2018 dataset, but in the summer of 2019, the state of Ohio passed a piece of legislation that allowed their nuclear plants to remain open. Thus, the Davis Besse nuclear power plant will not have to retire after all, despite being listed as planned for retirement in the EIA dataset. I'm just going to change the plant's retirement month and year to blanks."
   ]
  },
  {
   "cell_type": "code",
   "execution_count": 6,
   "metadata": {},
   "outputs": [
    {
     "data": {
      "text/html": [
       "<div>\n",
       "<style scoped>\n",
       "    .dataframe tbody tr th:only-of-type {\n",
       "        vertical-align: middle;\n",
       "    }\n",
       "\n",
       "    .dataframe tbody tr th {\n",
       "        vertical-align: top;\n",
       "    }\n",
       "\n",
       "    .dataframe thead th {\n",
       "        text-align: right;\n",
       "    }\n",
       "</style>\n",
       "<table border=\"1\" class=\"dataframe\">\n",
       "  <thead>\n",
       "    <tr style=\"text-align: right;\">\n",
       "      <th></th>\n",
       "      <th>plant_code</th>\n",
       "      <th>plant_name</th>\n",
       "      <th>gen_id</th>\n",
       "      <th>technology</th>\n",
       "      <th>capacity</th>\n",
       "      <th>op_month</th>\n",
       "      <th>op_year</th>\n",
       "      <th>ret_month</th>\n",
       "      <th>ret_year</th>\n",
       "    </tr>\n",
       "  </thead>\n",
       "  <tbody>\n",
       "    <tr>\n",
       "      <td>6728</td>\n",
       "      <td>6149</td>\n",
       "      <td>Davis Besse</td>\n",
       "      <td>1</td>\n",
       "      <td>Nuclear</td>\n",
       "      <td>925.2</td>\n",
       "      <td>11</td>\n",
       "      <td>1977</td>\n",
       "      <td>5</td>\n",
       "      <td>2020</td>\n",
       "    </tr>\n",
       "  </tbody>\n",
       "</table>\n",
       "</div>"
      ],
      "text/plain": [
       "      plant_code   plant_name gen_id technology  capacity  op_month  op_year  \\\n",
       "6728        6149  Davis Besse      1    Nuclear     925.2        11     1977   \n",
       "\n",
       "     ret_month ret_year  \n",
       "6728         5     2020  "
      ]
     },
     "execution_count": 6,
     "metadata": {},
     "output_type": "execute_result"
    }
   ],
   "source": [
    "eia_op[eia_op.plant_name == \"Davis Besse\"]"
   ]
  },
  {
   "cell_type": "code",
   "execution_count": 7,
   "metadata": {},
   "outputs": [],
   "source": [
    "eia_op.loc[eia_op.plant_name == \"Davis Besse\", \"ret_month\"] = \" \"\n",
    "eia_op.loc[eia_op.plant_name == \"Davis Besse\", \"ret_year\"] = \" \""
   ]
  },
  {
   "cell_type": "markdown",
   "metadata": {},
   "source": [
    "### Nuclear power plants planned for installation"
   ]
  },
  {
   "cell_type": "markdown",
   "metadata": {},
   "source": [
    "The second sheet in the ``3_1_Generator_Y2018.xlsx`` data file, named ``Proposed``, is a dataset of generators that are expected to be installed in the future (after 2018). I'm going to follow a similiar procedure as before to read in the data, but this time I'm not reading in any retirement month or year columns (since power plants not already installed don't have planned retirements). I'm also going to be reading in a column titled \"Status\", which will be further explained below."
   ]
  },
  {
   "cell_type": "code",
   "execution_count": 8,
   "metadata": {},
   "outputs": [],
   "source": [
    "eia_add = pd.read_excel('data/3_1_Generator_Y2018.xlsx', \n",
    "                            sheet_name = 'Proposed', \n",
    "                            skiprows = 1, \n",
    "                            skipfooter = 1,\n",
    "                            usecols = [2,3,6,7,15,19,22,23],\n",
    "                            names = [\"plant_code\", \"plant_name\", \n",
    "                                     \"gen_id\", \"technology\", \n",
    "                                     \"capacity\", \"status\", \n",
    "                                     \"op_month\", \"op_year\"])"
   ]
  },
  {
   "cell_type": "code",
   "execution_count": 9,
   "metadata": {},
   "outputs": [],
   "source": [
    "# only keep nuclear plants\n",
    "eia_add = eia_add[eia_add.technology == 'Nuclear']"
   ]
  },
  {
   "cell_type": "markdown",
   "metadata": {},
   "source": [
    "The reason why I read in the **Status** column is because the EIA dataset uses a number of code conventions as the statuses of each generator. In the ``LayoutY2018.xlsx`` file, in the ``Reference Tables 4-6`` sheet, there's a table titled \"Table 6. Proposed Generator Status Codes and Descriptions\". The different codes used to describe proposed generators are:\n",
    "\n",
    "| Proposed Generator Status Code\t| Proposed Generator Status Code Descriptions | \n",
    "| :-------------------------------: | ------------------------------------------- |\n",
    "| CN\t| Cancelled (previously reported as “planned”) | \n",
    "| IP\t| Planned new indefinitely postponed, or no longer in resource plan | \n",
    "| TS\t| Construction complete, but not yet in commercial operation (including low power testing of nuclear units) | \n",
    "| P\t| Planned for installation but regulatory approvals not initiated; Not under construction | \n",
    "| L\t| Regulatory approvals pending. Not under construction but site preparation could be underway | \n",
    "| T\t| Regulatory approvals received. Not under construction but site preparation could be underway | \n",
    "| U\t| Under construction, less than or equal to 50 percent complete (based on construction time to date of operation) | \n",
    "| V\t| Under construction, more than 50 percent complete (based on construction time to date of operation) | \n",
    "| OT\t| Other (specify in SCHEDULE 7) | \n",
    "\n",
    "I don't want any cancelled generators that have been previously reported as planned (ones with the \"CN\" status) or indefinitely postponed generators (ones with the \"IP\" status). I also won't keep ones with an \"OT\" status. Thus, I'll only keep generators with certain status codes:"
   ]
  },
  {
   "cell_type": "code",
   "execution_count": 10,
   "metadata": {},
   "outputs": [],
   "source": [
    "eia_add = eia_add[eia_add.status.isin([\"TS\", \"P\", \"L\", \"T\", \"U\", \"V\"])]"
   ]
  },
  {
   "cell_type": "markdown",
   "metadata": {},
   "source": [
    "### Already retired nuclear generators"
   ]
  },
  {
   "cell_type": "markdown",
   "metadata": {},
   "source": [
    "The third sheet in the ``3_1_Generator_Y2018.xlsx`` data file, named ``Retired and Canceled``, includes all retired generators. Same as before, I'm using pandas to read in the Excel file:"
   ]
  },
  {
   "cell_type": "code",
   "execution_count": 11,
   "metadata": {},
   "outputs": [],
   "source": [
    "eia_ret = pd.read_excel('data/3_1_Generator_Y2018.xlsx', \n",
    "                          sheet_name = 'Retired and Canceled', \n",
    "                          skiprows = 1, \n",
    "                          skipfooter = 1,\n",
    "                          usecols = [2,3,6,7,15,23,25,26,27,28],\n",
    "                          names = [\"plant_code\", \"plant_name\", \n",
    "                                   \"gen_id\", \"technology\", \n",
    "                                   \"capacity\", \"status\", \n",
    "                                   \"op_month\", \"op_year\", \n",
    "                                   \"ret_month\", \"ret_year\"])"
   ]
  },
  {
   "cell_type": "code",
   "execution_count": 12,
   "metadata": {},
   "outputs": [],
   "source": [
    "# only keep nuclear plants\n",
    "eia_ret = eia_ret[eia_ret.technology == 'Nuclear']"
   ]
  },
  {
   "cell_type": "markdown",
   "metadata": {},
   "source": [
    "Again, the EIA uses various status codes for each generator. In this case, I'm only interested in generators labeled as \"RE\" (or retired\" status."
   ]
  },
  {
   "cell_type": "code",
   "execution_count": 13,
   "metadata": {},
   "outputs": [],
   "source": [
    "eia_ret = eia_ret[eia_ret.status.isin([\"RE\"])]"
   ]
  },
  {
   "cell_type": "markdown",
   "metadata": {},
   "source": [
    "### Power plant locations"
   ]
  },
  {
   "cell_type": "markdown",
   "metadata": {},
   "source": [
    "The ``3_1_Generator_Y2018.xlsx`` file that has been used thus far includes information on generators, but it does not provide information the each generator's location. Instead, that infomration is provided at the power plant level, in the ``2___Plant_Y2018.xlsx`` file. So, I'm going to read in that file as a dataframe as well.\n",
    "\n",
    "I'm going to read in the Plant Code since it is the unique code that I'm going to use to match across dataframes. The longitude and latitude are needed to map the power plants, so I'll be reading those in as well. And finally, even though the city and state where the plant is located won't be needed for mapping, I'm going to use that information to put on the tooltips of the map."
   ]
  },
  {
   "cell_type": "code",
   "execution_count": 14,
   "metadata": {},
   "outputs": [],
   "source": [
    "plants = pd.read_excel('data/2___Plant_Y2018.xlsx', \n",
    "                          sheet_name = 'Plant', \n",
    "                          skiprows = 1, \n",
    "                          skipfooter = 1,\n",
    "                          usecols = [2,5,6,9,10],\n",
    "                          names = [\"plant_code\", \"city\", \"state\", \"latitude\", \"longitude\"])"
   ]
  },
  {
   "cell_type": "markdown",
   "metadata": {},
   "source": [
    "## Create dataframe of operating (or soon to be operating) generators"
   ]
  },
  {
   "cell_type": "markdown",
   "metadata": {},
   "source": [
    "### Use operating generators that are NOT planned for retirement"
   ]
  },
  {
   "cell_type": "markdown",
   "metadata": {},
   "source": [
    "Currently operating generators (in 2018) that are planned for retirement will be dealt with a little later. "
   ]
  },
  {
   "cell_type": "code",
   "execution_count": 15,
   "metadata": {},
   "outputs": [],
   "source": [
    "eia_op_notret = eia_op[eia_op['ret_year'] == \" \"]"
   ]
  },
  {
   "cell_type": "markdown",
   "metadata": {},
   "source": [
    "### Combine operating generators (not planned for retirement) with planned additions"
   ]
  },
  {
   "cell_type": "markdown",
   "metadata": {},
   "source": [
    "This basically creates a dataframe of all operating generators not planned for retirement AND generators planned to be installed. Thus, these are generators that do not experience shutdowns at any point during the slider animation."
   ]
  },
  {
   "cell_type": "code",
   "execution_count": 16,
   "metadata": {},
   "outputs": [],
   "source": [
    "df_op = pd.concat([\n",
    "        eia_op_notret[[\"plant_code\", \"plant_name\", \"gen_id\", \"capacity\", \"op_year\"]], \n",
    "        eia_add[[\"plant_code\", \"plant_name\", \"gen_id\", \"capacity\", \"op_year\"]] \n",
    "        ])"
   ]
  },
  {
   "cell_type": "markdown",
   "metadata": {},
   "source": [
    "## Create dataframe of retired (or soon to be retired) generators"
   ]
  },
  {
   "cell_type": "markdown",
   "metadata": {},
   "source": [
    "### Keep operating generators that ARE planned for retirement"
   ]
  },
  {
   "cell_type": "code",
   "execution_count": 17,
   "metadata": {},
   "outputs": [],
   "source": [
    "eia_op_ret = eia_op[~eia_op.ret_year.isin([\" \"])]"
   ]
  },
  {
   "cell_type": "markdown",
   "metadata": {},
   "source": [
    "### Combine currently operating generators planned for retirement with already retired generators"
   ]
  },
  {
   "cell_type": "markdown",
   "metadata": {},
   "source": [
    "This creates a dataframe of generators that are either (a) currently operating but planned for retirement or (b) already retired/shutdown. These are generators that are a little trickier to plot because they switch color on the map (once they shut down)."
   ]
  },
  {
   "cell_type": "code",
   "execution_count": 18,
   "metadata": {},
   "outputs": [],
   "source": [
    "df_ret = pd.concat([\n",
    "            eia_op_ret[[\"plant_code\", \"plant_name\", \"gen_id\", \"capacity\", \"op_year\", \"ret_year\"]],\n",
    "            eia_ret[[\"plant_code\", \"plant_name\", \"gen_id\", \"capacity\", \"op_year\", \"ret_year\"]]\n",
    "            ])"
   ]
  },
  {
   "cell_type": "markdown",
   "metadata": {},
   "source": [
    "## Create time series of capacity for each nuclear plant"
   ]
  },
  {
   "cell_type": "markdown",
   "metadata": {},
   "source": [
    "### Get a sense of years needed"
   ]
  },
  {
   "cell_type": "markdown",
   "metadata": {},
   "source": [
    "I want to get a sense of what years I want my time slider to span from, so let's see the minimum and maximim years in each of the operating or the retired dataframes."
   ]
  },
  {
   "cell_type": "code",
   "execution_count": 19,
   "metadata": {},
   "outputs": [
    {
     "data": {
      "text/plain": [
       "1969"
      ]
     },
     "execution_count": 19,
     "metadata": {},
     "output_type": "execute_result"
    }
   ],
   "source": [
    "min(df_op['op_year'])"
   ]
  },
  {
   "cell_type": "code",
   "execution_count": 20,
   "metadata": {},
   "outputs": [
    {
     "data": {
      "text/plain": [
       "2027"
      ]
     },
     "execution_count": 20,
     "metadata": {},
     "output_type": "execute_result"
    }
   ],
   "source": [
    "max(df_op['op_year'])"
   ]
  },
  {
   "cell_type": "code",
   "execution_count": 21,
   "metadata": {},
   "outputs": [
    {
     "data": {
      "text/plain": [
       "1969"
      ]
     },
     "execution_count": 21,
     "metadata": {},
     "output_type": "execute_result"
    }
   ],
   "source": [
    "min(df_ret['op_year'])"
   ]
  },
  {
   "cell_type": "code",
   "execution_count": 22,
   "metadata": {},
   "outputs": [
    {
     "data": {
      "text/plain": [
       "2025"
      ]
     },
     "execution_count": 22,
     "metadata": {},
     "output_type": "execute_result"
    }
   ],
   "source": [
    "max(df_ret['ret_year'])"
   ]
  },
  {
   "cell_type": "markdown",
   "metadata": {},
   "source": [
    "It looks like a range of 1969 to 2027 should be about enough. (In the map, I decided on 1968 to 2028 to give a one year margin.)"
   ]
  },
  {
   "cell_type": "markdown",
   "metadata": {},
   "source": [
    "### Loop to create time series for currently operating generators and planned installations"
   ]
  },
  {
   "cell_type": "markdown",
   "metadata": {},
   "source": [
    "What this loop essentially does is, for each individual **power plant** (not generator) and creates a yearly time series from 1968 to 2029 and populates each year with the capacity, operating capacity (not as important in this case since there are not lost capacities for these power plants), and net capacity (change in capacity between each year).\n",
    "\n",
    "Each power plant's time series is stored as a dataframe in a list. "
   ]
  },
  {
   "cell_type": "code",
   "execution_count": 23,
   "metadata": {},
   "outputs": [],
   "source": [
    "un_op = df_op.plant_code.unique()\n",
    "l_op = []\n",
    "for i in list(range(0,len(un_op))):\n",
    "    dat = df_op[df_op.plant_code == un_op[i]][[\"plant_code\", \"plant_name\", \"capacity\", \"op_year\"]]\n",
    "    dat = dat.rename(columns={\"op_year\": \"year\"})\n",
    "    dat = dat.groupby(['plant_code', 'plant_name', 'year']).sum().reset_index()\n",
    "    first = dat.sort_values(by='year').drop_duplicates(subset = 'plant_code')\n",
    "    df = pd.DataFrame(data = {\"year\": list(range(1969-1,2028+1)) , \n",
    "                              \"plant_code\" : np.repeat(first['plant_code'], len(range(1969-1,2028+1))),\n",
    "                              \"plant_name\" :  np.repeat(first['plant_name'], len(range(1969-1,2028+1)))   } )\n",
    "    df = pd.merge(df, dat, on = [\"year\", \"plant_code\", \"plant_name\"], how = \"left\")\n",
    "    df = df.fillna(0)\n",
    "    df['op_capacity'] = df['capacity'].cumsum()\n",
    "    df['net_capacity'] = df['op_capacity']\n",
    "    df.loc[df.capacity < 0, 'net_capacity'] = df.capacity\n",
    "\n",
    "    l_op.append(df)\n",
    "    del df\n",
    "    del dat\n",
    "    del first"
   ]
  },
  {
   "cell_type": "markdown",
   "metadata": {},
   "source": [
    "Then, combine the list of dataframes into a single dataframe:"
   ]
  },
  {
   "cell_type": "code",
   "execution_count": 24,
   "metadata": {},
   "outputs": [],
   "source": [
    "seq_op = pd.concat(l_op)"
   ]
  },
  {
   "cell_type": "markdown",
   "metadata": {},
   "source": [
    "### Loop to create time series for currently operating generators planned for retirement and already retired generators"
   ]
  },
  {
   "cell_type": "markdown",
   "metadata": {},
   "source": [
    "Essentially the same as above, but for these power plants, since they experience lost capacity (either fully or partially), creating the time series was a little trickier. I also had to encounter for instances where multiple generators within the same power plant shut down within the same year. For these retired or planned to be retired power plants, getting the net capacity correct was important -- since a negative net capacity is what is used as a condition in the map to signal the map to change circle color. Getting the operating capacity (versus lost capacity) is also important."
   ]
  },
  {
   "cell_type": "code",
   "execution_count": 25,
   "metadata": {},
   "outputs": [],
   "source": [
    "un_ret = df_ret.plant_code.unique()\n",
    "l_ret = []\n",
    "for i in list(range(0,len(un_ret))):\n",
    "    dat = df_ret[df_ret.plant_code == un_ret[i]][[\"plant_code\", \"plant_name\", \"capacity\", \"op_year\", \"ret_year\"]]\n",
    "    dat = pd.melt(dat, \n",
    "                  id_vars = [\"plant_code\", \"plant_name\", \"capacity\"], \n",
    "                  value_vars = [\"op_year\", \"ret_year\"],\n",
    "                  var_name = \"type\", value_name = \"year\")\n",
    "    dat = dat.groupby(['plant_code', 'plant_name', 'type', 'year']).sum().reset_index()\n",
    "    dat.loc[dat.type == \"ret_year\", \"capacity\"] = -dat.capacity\n",
    "    dat = dat[[\"plant_code\", \"plant_name\", \"capacity\", \"year\"]]\n",
    "    dat = dat.astype({'plant_code': 'int64', 'year' : 'int64'})\n",
    "\n",
    "    first = dat.sort_values(by='year').drop_duplicates(subset = 'plant_code')\n",
    "    \n",
    "    \n",
    "    df = pd.DataFrame(data = {\"year\": list(range(1969-1,2028+1)) , \n",
    "                              \"plant_code\" : np.repeat(first['plant_code'], len(range(1969-1,2028+1))),\n",
    "                              \"plant_name\" :  np.repeat(first['plant_name'], len(range(1969-1,2028+1)))   } )\n",
    "    df = pd.merge(df, dat, on = [\"year\", \"plant_code\", \"plant_name\"], how = \"left\")\n",
    "    df = df.fillna(0)\n",
    "    df['op_capacity'] = df['capacity'].cumsum()\n",
    "    df['net_capacity'] = df['op_capacity']\n",
    "    df.loc[df.capacity < 0, 'net_capacity'] = df.capacity    \n",
    "    op = df.loc[df.year < min(df[df.capacity < 0]['year'])]\n",
    "    ret = df.loc[df.year >= min(df[df.capacity < 0]['year'])][[\"year\", \"plant_code\", \"plant_name\", \"capacity\", \"op_capacity\"]]\n",
    "    ret['net_capacity'] = ret['capacity'].cumsum()\n",
    "    \n",
    "    df = pd.concat([op, ret])\n",
    "    l_ret.append(df)\n",
    "    del df\n",
    "    del dat\n",
    "    del first"
   ]
  },
  {
   "cell_type": "code",
   "execution_count": 26,
   "metadata": {},
   "outputs": [],
   "source": [
    "seq_ret = pd.concat(l_ret)"
   ]
  },
  {
   "cell_type": "markdown",
   "metadata": {},
   "source": [
    "### Combine both dataframes of time series data together"
   ]
  },
  {
   "cell_type": "code",
   "execution_count": 27,
   "metadata": {},
   "outputs": [],
   "source": [
    "df_all = pd.concat([seq_op, seq_ret])"
   ]
  },
  {
   "cell_type": "code",
   "execution_count": 28,
   "metadata": {},
   "outputs": [
    {
     "data": {
      "text/html": [
       "<div>\n",
       "<style scoped>\n",
       "    .dataframe tbody tr th:only-of-type {\n",
       "        vertical-align: middle;\n",
       "    }\n",
       "\n",
       "    .dataframe tbody tr th {\n",
       "        vertical-align: top;\n",
       "    }\n",
       "\n",
       "    .dataframe thead th {\n",
       "        text-align: right;\n",
       "    }\n",
       "</style>\n",
       "<table border=\"1\" class=\"dataframe\">\n",
       "  <thead>\n",
       "    <tr style=\"text-align: right;\">\n",
       "      <th></th>\n",
       "      <th>year</th>\n",
       "      <th>plant_code</th>\n",
       "      <th>plant_name</th>\n",
       "      <th>capacity</th>\n",
       "      <th>op_capacity</th>\n",
       "      <th>net_capacity</th>\n",
       "    </tr>\n",
       "  </thead>\n",
       "  <tbody>\n",
       "    <tr>\n",
       "      <td>0</td>\n",
       "      <td>1968</td>\n",
       "      <td>46</td>\n",
       "      <td>Browns Ferry</td>\n",
       "      <td>0.0</td>\n",
       "      <td>0.0</td>\n",
       "      <td>0.0</td>\n",
       "    </tr>\n",
       "    <tr>\n",
       "      <td>1</td>\n",
       "      <td>1969</td>\n",
       "      <td>46</td>\n",
       "      <td>Browns Ferry</td>\n",
       "      <td>0.0</td>\n",
       "      <td>0.0</td>\n",
       "      <td>0.0</td>\n",
       "    </tr>\n",
       "    <tr>\n",
       "      <td>2</td>\n",
       "      <td>1970</td>\n",
       "      <td>46</td>\n",
       "      <td>Browns Ferry</td>\n",
       "      <td>0.0</td>\n",
       "      <td>0.0</td>\n",
       "      <td>0.0</td>\n",
       "    </tr>\n",
       "    <tr>\n",
       "      <td>3</td>\n",
       "      <td>1971</td>\n",
       "      <td>46</td>\n",
       "      <td>Browns Ferry</td>\n",
       "      <td>0.0</td>\n",
       "      <td>0.0</td>\n",
       "      <td>0.0</td>\n",
       "    </tr>\n",
       "    <tr>\n",
       "      <td>4</td>\n",
       "      <td>1972</td>\n",
       "      <td>46</td>\n",
       "      <td>Browns Ferry</td>\n",
       "      <td>0.0</td>\n",
       "      <td>0.0</td>\n",
       "      <td>0.0</td>\n",
       "    </tr>\n",
       "  </tbody>\n",
       "</table>\n",
       "</div>"
      ],
      "text/plain": [
       "   year  plant_code    plant_name  capacity  op_capacity  net_capacity\n",
       "0  1968          46  Browns Ferry       0.0          0.0           0.0\n",
       "1  1969          46  Browns Ferry       0.0          0.0           0.0\n",
       "2  1970          46  Browns Ferry       0.0          0.0           0.0\n",
       "3  1971          46  Browns Ferry       0.0          0.0           0.0\n",
       "4  1972          46  Browns Ferry       0.0          0.0           0.0"
      ]
     },
     "execution_count": 28,
     "metadata": {},
     "output_type": "execute_result"
    }
   ],
   "source": [
    "df_all.head()"
   ]
  },
  {
   "cell_type": "markdown",
   "metadata": {},
   "source": [
    "## Merge with power plant location"
   ]
  },
  {
   "cell_type": "markdown",
   "metadata": {},
   "source": [
    "Now, I have a dataframe that has a yearly time series from 1968 to 2029 for each power plant. However, there is no information on power plant location in the dataframe. Recall, I imported information on power plant location earlier. Merging the time series data together with the plant location data, using the **plant_code** column as the ID."
   ]
  },
  {
   "cell_type": "code",
   "execution_count": 29,
   "metadata": {},
   "outputs": [],
   "source": [
    "df_all = pd.merge(df_all, plants, on = \"plant_code\")"
   ]
  },
  {
   "cell_type": "code",
   "execution_count": 30,
   "metadata": {},
   "outputs": [
    {
     "data": {
      "text/html": [
       "<div>\n",
       "<style scoped>\n",
       "    .dataframe tbody tr th:only-of-type {\n",
       "        vertical-align: middle;\n",
       "    }\n",
       "\n",
       "    .dataframe tbody tr th {\n",
       "        vertical-align: top;\n",
       "    }\n",
       "\n",
       "    .dataframe thead th {\n",
       "        text-align: right;\n",
       "    }\n",
       "</style>\n",
       "<table border=\"1\" class=\"dataframe\">\n",
       "  <thead>\n",
       "    <tr style=\"text-align: right;\">\n",
       "      <th></th>\n",
       "      <th>year</th>\n",
       "      <th>plant_code</th>\n",
       "      <th>plant_name</th>\n",
       "      <th>capacity</th>\n",
       "      <th>op_capacity</th>\n",
       "      <th>net_capacity</th>\n",
       "      <th>city</th>\n",
       "      <th>state</th>\n",
       "      <th>latitude</th>\n",
       "      <th>longitude</th>\n",
       "    </tr>\n",
       "  </thead>\n",
       "  <tbody>\n",
       "    <tr>\n",
       "      <td>0</td>\n",
       "      <td>1968</td>\n",
       "      <td>46</td>\n",
       "      <td>Browns Ferry</td>\n",
       "      <td>0.0</td>\n",
       "      <td>0.0</td>\n",
       "      <td>0.0</td>\n",
       "      <td>Decatur</td>\n",
       "      <td>AL</td>\n",
       "      <td>34.7042</td>\n",
       "      <td>-87.1189</td>\n",
       "    </tr>\n",
       "    <tr>\n",
       "      <td>1</td>\n",
       "      <td>1969</td>\n",
       "      <td>46</td>\n",
       "      <td>Browns Ferry</td>\n",
       "      <td>0.0</td>\n",
       "      <td>0.0</td>\n",
       "      <td>0.0</td>\n",
       "      <td>Decatur</td>\n",
       "      <td>AL</td>\n",
       "      <td>34.7042</td>\n",
       "      <td>-87.1189</td>\n",
       "    </tr>\n",
       "    <tr>\n",
       "      <td>2</td>\n",
       "      <td>1970</td>\n",
       "      <td>46</td>\n",
       "      <td>Browns Ferry</td>\n",
       "      <td>0.0</td>\n",
       "      <td>0.0</td>\n",
       "      <td>0.0</td>\n",
       "      <td>Decatur</td>\n",
       "      <td>AL</td>\n",
       "      <td>34.7042</td>\n",
       "      <td>-87.1189</td>\n",
       "    </tr>\n",
       "    <tr>\n",
       "      <td>3</td>\n",
       "      <td>1971</td>\n",
       "      <td>46</td>\n",
       "      <td>Browns Ferry</td>\n",
       "      <td>0.0</td>\n",
       "      <td>0.0</td>\n",
       "      <td>0.0</td>\n",
       "      <td>Decatur</td>\n",
       "      <td>AL</td>\n",
       "      <td>34.7042</td>\n",
       "      <td>-87.1189</td>\n",
       "    </tr>\n",
       "    <tr>\n",
       "      <td>4</td>\n",
       "      <td>1972</td>\n",
       "      <td>46</td>\n",
       "      <td>Browns Ferry</td>\n",
       "      <td>0.0</td>\n",
       "      <td>0.0</td>\n",
       "      <td>0.0</td>\n",
       "      <td>Decatur</td>\n",
       "      <td>AL</td>\n",
       "      <td>34.7042</td>\n",
       "      <td>-87.1189</td>\n",
       "    </tr>\n",
       "  </tbody>\n",
       "</table>\n",
       "</div>"
      ],
      "text/plain": [
       "   year  plant_code    plant_name  capacity  op_capacity  net_capacity  \\\n",
       "0  1968          46  Browns Ferry       0.0          0.0           0.0   \n",
       "1  1969          46  Browns Ferry       0.0          0.0           0.0   \n",
       "2  1970          46  Browns Ferry       0.0          0.0           0.0   \n",
       "3  1971          46  Browns Ferry       0.0          0.0           0.0   \n",
       "4  1972          46  Browns Ferry       0.0          0.0           0.0   \n",
       "\n",
       "      city state latitude longitude  \n",
       "0  Decatur    AL  34.7042  -87.1189  \n",
       "1  Decatur    AL  34.7042  -87.1189  \n",
       "2  Decatur    AL  34.7042  -87.1189  \n",
       "3  Decatur    AL  34.7042  -87.1189  \n",
       "4  Decatur    AL  34.7042  -87.1189  "
      ]
     },
     "execution_count": 30,
     "metadata": {},
     "output_type": "execute_result"
    }
   ],
   "source": [
    "df_all.head()"
   ]
  },
  {
   "cell_type": "markdown",
   "metadata": {},
   "source": [
    "## Create ranking for power plants"
   ]
  },
  {
   "cell_type": "markdown",
   "metadata": {},
   "source": [
    "When going through the slider, the map would redraw the circles every year -- causing a sort of glitch-like phenomenom -- because it's not drawing the circles in the same order each time. So, I created a rank for each power plant and incorporated that into the map drawing. Because I wanted to have smaller circles on top as much as possible, I created a ranking based on capacity. What I did was I selected the final year (2028) and created the rank based on capacity in that year -- that way, I was able to capture the size of all power plants by the end of the map animation. This method isn't perfect though because there are some power plants that gain capacity some time during the map slider animation, and they go from being smaller than other power plants to larger. If you're picky, you can manually change the rank in those instances. I'm not going to do that right now because it's not a huge bother to me. "
   ]
  },
  {
   "cell_type": "markdown",
   "metadata": {},
   "source": [
    "### get final year only"
   ]
  },
  {
   "cell_type": "code",
   "execution_count": 31,
   "metadata": {},
   "outputs": [],
   "source": [
    "df_2028 = df_all[df_all.year == 2028]"
   ]
  },
  {
   "cell_type": "code",
   "execution_count": 32,
   "metadata": {},
   "outputs": [
    {
     "data": {
      "text/plain": [
       "(65, 10)"
      ]
     },
     "execution_count": 32,
     "metadata": {},
     "output_type": "execute_result"
    }
   ],
   "source": [
    "df_2028.shape"
   ]
  },
  {
   "cell_type": "markdown",
   "metadata": {},
   "source": [
    "Make sure to create the rank based on the absolute value of net capacity."
   ]
  },
  {
   "cell_type": "code",
   "execution_count": 33,
   "metadata": {},
   "outputs": [
    {
     "name": "stderr",
     "output_type": "stream",
     "text": [
      "/Users/MEAS/opt/anaconda3/lib/python3.7/site-packages/ipykernel_launcher.py:1: SettingWithCopyWarning: \n",
      "A value is trying to be set on a copy of a slice from a DataFrame.\n",
      "Try using .loc[row_indexer,col_indexer] = value instead\n",
      "\n",
      "See the caveats in the documentation: http://pandas.pydata.org/pandas-docs/stable/user_guide/indexing.html#returning-a-view-versus-a-copy\n",
      "  \"\"\"Entry point for launching an IPython kernel.\n"
     ]
    }
   ],
   "source": [
    "df_2028['abs_capacity'] = df_2028['net_capacity'].abs()"
   ]
  },
  {
   "cell_type": "code",
   "execution_count": 34,
   "metadata": {},
   "outputs": [],
   "source": [
    "df_2028 = df_2028.sort_values(by = ['abs_capacity'])"
   ]
  },
  {
   "cell_type": "code",
   "execution_count": 35,
   "metadata": {},
   "outputs": [],
   "source": [
    "df_2028['order'] = range(1,66)"
   ]
  },
  {
   "cell_type": "code",
   "execution_count": 36,
   "metadata": {},
   "outputs": [],
   "source": [
    "df_2028 = df_2028[['plant_code', 'order']]"
   ]
  },
  {
   "cell_type": "markdown",
   "metadata": {},
   "source": [
    "Merge with full dataframe:"
   ]
  },
  {
   "cell_type": "code",
   "execution_count": 37,
   "metadata": {},
   "outputs": [],
   "source": [
    "df_all = pd.merge(df_all, df_2028, on = 'plant_code')"
   ]
  },
  {
   "cell_type": "markdown",
   "metadata": {},
   "source": [
    "## export to csv"
   ]
  },
  {
   "cell_type": "code",
   "execution_count": 38,
   "metadata": {},
   "outputs": [],
   "source": [
    "df_all.to_csv(\"nuclear_capacity.csv\", index = False)"
   ]
  }
 ],
 "metadata": {
  "kernelspec": {
   "display_name": "Python 3",
   "language": "python",
   "name": "python3"
  },
  "language_info": {
   "codemirror_mode": {
    "name": "ipython",
    "version": 3
   },
   "file_extension": ".py",
   "mimetype": "text/x-python",
   "name": "python",
   "nbconvert_exporter": "python",
   "pygments_lexer": "ipython3",
   "version": "3.7.4"
  }
 },
 "nbformat": 4,
 "nbformat_minor": 4
}
