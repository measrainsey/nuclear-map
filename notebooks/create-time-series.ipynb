{
 "cells": [
  {
   "cell_type": "markdown",
   "metadata": {},
   "source": [
    "# Create time series of nuclear capacity installments and retirements"
   ]
  },
  {
   "cell_type": "markdown",
   "metadata": {},
   "source": [
    "Because the map we're creating requires the use of a time slider that goes through a span of years, we need to create a data file that has the nuclear capacity for every year."
   ]
  },
  {
   "cell_type": "markdown",
   "metadata": {},
   "source": [
    "### Import libaries"
   ]
  },
  {
   "cell_type": "markdown",
   "metadata": {},
   "source": [
    "I'm going to be using pandas to read in the Excel spreadsheets as dataframes and then analyze the dataframes. I'm also going to lightly use numpy for some light work."
   ]
  },
  {
   "cell_type": "code",
   "execution_count": 1,
   "metadata": {},
   "outputs": [],
   "source": [
    "import pandas as pd\n",
    "import numpy as np"
   ]
  },
  {
   "cell_type": "markdown",
   "metadata": {},
   "source": [
    "### Change working directory of notebook"
   ]
  },
  {
   "cell_type": "markdown",
   "metadata": {},
   "source": [
    "Currently, the working directory is the same as where the notebook is located, so I'm going to change the working directory to the main folder instead."
   ]
  },
  {
   "cell_type": "code",
   "execution_count": 2,
   "metadata": {},
   "outputs": [
    {
     "name": "stdout",
     "output_type": "stream",
     "text": [
      "/Users/MEAS/GitHub/nuclear-map\n"
     ]
    }
   ],
   "source": [
    "%cd .."
   ]
  },
  {
   "cell_type": "markdown",
   "metadata": {},
   "source": [
    "## EIA 860 data "
   ]
  },
  {
   "cell_type": "markdown",
   "metadata": {},
   "source": [
    "I've already included all the needed data in the **\"data\"** folder, but you can go out and download the data for yourself at the [EIA 860 website](https://www.eia.gov/electricity/data/eia860/) if you would like. After you unzip the downloaded file, you can explore the various Excel files included in the dataset. The ones relevant to this analysis are the ``3_1_Generator_Y2018.xlsx`` and ``2___Plant_Y2018.xlsx`` files. The ``LayoutY2018.xlsx`` is helpful for understanding what different acronyms and codes in the dataset mean."
   ]
  },
  {
   "cell_type": "markdown",
   "metadata": {},
   "source": [
    "### Currently operating nuclear generators"
   ]
  },
  {
   "cell_type": "markdown",
   "metadata": {},
   "source": [
    "The first sheet in the ``3_1_Generator_Y2018.xlsx`` file, named ``Operable``, includes all currently operating (in the year 2018) electricity generators in the US. This includes generators that are **planned for retirement** after 2018 as well. The spreadsheet includes a lot of information on each generator, but the columns that are relevant for this map are:\n",
    " * Plant Code:\n",
    " * Plant Name:\n",
    " * Generator ID: \n",
    " * Technology: \n",
    " * Capacity: \n",
    " * Operating Month: \n",
    " * Operating Year: \n",
    " * Retirement Month: \n",
    " * Retirement Year: \n",
    " "
   ]
  },
  {
   "cell_type": "code",
   "execution_count": 3,
   "metadata": {},
   "outputs": [],
   "source": [
    "# read in spreadsheet of currently operating generators\n",
    "eia_op = pd.read_excel('data/3_1_Generator_Y2018.xlsx', \n",
    "                          sheet_name = 'Operable', \n",
    "                          skiprows = 1, \n",
    "                          skipfooter = 1,\n",
    "                          usecols = [2,3,6,7,15,25,26,27,28],\n",
    "                          names = [\"plant_code\", \"plant_name\", \n",
    "                                   \"gen_id\", \"technology\", \n",
    "                                   \"capacity\", \"op_month\", \n",
    "                                   \"op_year\", \"ret_month\", \n",
    "                                   \"ret_year\"])"
   ]
  },
  {
   "cell_type": "markdown",
   "metadata": {},
   "source": [
    "Filter to keep the generators that are labeled as having \"Nuclear\" as the technology."
   ]
  },
  {
   "cell_type": "code",
   "execution_count": 4,
   "metadata": {},
   "outputs": [],
   "source": [
    "# only keep nuclear plants\n",
    "eia_op = eia_op[eia_op.technology == 'Nuclear']"
   ]
  },
  {
   "cell_type": "code",
   "execution_count": 5,
   "metadata": {},
   "outputs": [
    {
     "data": {
      "text/html": [
       "<div>\n",
       "<style scoped>\n",
       "    .dataframe tbody tr th:only-of-type {\n",
       "        vertical-align: middle;\n",
       "    }\n",
       "\n",
       "    .dataframe tbody tr th {\n",
       "        vertical-align: top;\n",
       "    }\n",
       "\n",
       "    .dataframe thead th {\n",
       "        text-align: right;\n",
       "    }\n",
       "</style>\n",
       "<table border=\"1\" class=\"dataframe\">\n",
       "  <thead>\n",
       "    <tr style=\"text-align: right;\">\n",
       "      <th></th>\n",
       "      <th>plant_code</th>\n",
       "      <th>plant_name</th>\n",
       "      <th>gen_id</th>\n",
       "      <th>technology</th>\n",
       "      <th>capacity</th>\n",
       "      <th>op_month</th>\n",
       "      <th>op_year</th>\n",
       "      <th>ret_month</th>\n",
       "      <th>ret_year</th>\n",
       "    </tr>\n",
       "  </thead>\n",
       "  <tbody>\n",
       "    <tr>\n",
       "      <td>81</td>\n",
       "      <td>46</td>\n",
       "      <td>Browns Ferry</td>\n",
       "      <td>1</td>\n",
       "      <td>Nuclear</td>\n",
       "      <td>1152.0</td>\n",
       "      <td>8</td>\n",
       "      <td>1974</td>\n",
       "      <td></td>\n",
       "      <td></td>\n",
       "    </tr>\n",
       "    <tr>\n",
       "      <td>82</td>\n",
       "      <td>46</td>\n",
       "      <td>Browns Ferry</td>\n",
       "      <td>2</td>\n",
       "      <td>Nuclear</td>\n",
       "      <td>1152.0</td>\n",
       "      <td>3</td>\n",
       "      <td>1975</td>\n",
       "      <td></td>\n",
       "      <td></td>\n",
       "    </tr>\n",
       "    <tr>\n",
       "      <td>83</td>\n",
       "      <td>46</td>\n",
       "      <td>Browns Ferry</td>\n",
       "      <td>3</td>\n",
       "      <td>Nuclear</td>\n",
       "      <td>1190.0</td>\n",
       "      <td>3</td>\n",
       "      <td>1977</td>\n",
       "      <td></td>\n",
       "      <td></td>\n",
       "    </tr>\n",
       "    <tr>\n",
       "      <td>388</td>\n",
       "      <td>204</td>\n",
       "      <td>Clinton Power Station</td>\n",
       "      <td>1</td>\n",
       "      <td>Nuclear</td>\n",
       "      <td>1138.3</td>\n",
       "      <td>11</td>\n",
       "      <td>1987</td>\n",
       "      <td></td>\n",
       "      <td></td>\n",
       "    </tr>\n",
       "    <tr>\n",
       "      <td>389</td>\n",
       "      <td>210</td>\n",
       "      <td>Wolf Creek Generating Station</td>\n",
       "      <td>1</td>\n",
       "      <td>Nuclear</td>\n",
       "      <td>1267.7</td>\n",
       "      <td>9</td>\n",
       "      <td>1985</td>\n",
       "      <td></td>\n",
       "      <td></td>\n",
       "    </tr>\n",
       "  </tbody>\n",
       "</table>\n",
       "</div>"
      ],
      "text/plain": [
       "     plant_code                     plant_name gen_id technology  capacity  \\\n",
       "81           46                   Browns Ferry      1    Nuclear    1152.0   \n",
       "82           46                   Browns Ferry      2    Nuclear    1152.0   \n",
       "83           46                   Browns Ferry      3    Nuclear    1190.0   \n",
       "388         204          Clinton Power Station      1    Nuclear    1138.3   \n",
       "389         210  Wolf Creek Generating Station      1    Nuclear    1267.7   \n",
       "\n",
       "     op_month  op_year ret_month ret_year  \n",
       "81          8     1974                     \n",
       "82          3     1975                     \n",
       "83          3     1977                     \n",
       "388        11     1987                     \n",
       "389         9     1985                     "
      ]
     },
     "execution_count": 5,
     "metadata": {},
     "output_type": "execute_result"
    }
   ],
   "source": [
    "eia_op.head()"
   ]
  },
  {
   "cell_type": "markdown",
   "metadata": {},
   "source": [
    "This isn't reflected in the 2018 dataset, but in the summer of 2019, the state of Ohio passed a piece of legislation that allowed their nuclear plants to remain open. Thus, the Davis Besse nuclear power plant will not have to retire after all, despite being listed as planned for retirement in the EIA dataset. I'm just going to change the plant's retirement month and year to blanks."
   ]
  },
  {
   "cell_type": "code",
   "execution_count": 6,
   "metadata": {},
   "outputs": [
    {
     "data": {
      "text/html": [
       "<div>\n",
       "<style scoped>\n",
       "    .dataframe tbody tr th:only-of-type {\n",
       "        vertical-align: middle;\n",
       "    }\n",
       "\n",
       "    .dataframe tbody tr th {\n",
       "        vertical-align: top;\n",
       "    }\n",
       "\n",
       "    .dataframe thead th {\n",
       "        text-align: right;\n",
       "    }\n",
       "</style>\n",
       "<table border=\"1\" class=\"dataframe\">\n",
       "  <thead>\n",
       "    <tr style=\"text-align: right;\">\n",
       "      <th></th>\n",
       "      <th>plant_code</th>\n",
       "      <th>plant_name</th>\n",
       "      <th>gen_id</th>\n",
       "      <th>technology</th>\n",
       "      <th>capacity</th>\n",
       "      <th>op_month</th>\n",
       "      <th>op_year</th>\n",
       "      <th>ret_month</th>\n",
       "      <th>ret_year</th>\n",
       "    </tr>\n",
       "  </thead>\n",
       "  <tbody>\n",
       "    <tr>\n",
       "      <td>6728</td>\n",
       "      <td>6149</td>\n",
       "      <td>Davis Besse</td>\n",
       "      <td>1</td>\n",
       "      <td>Nuclear</td>\n",
       "      <td>925.2</td>\n",
       "      <td>11</td>\n",
       "      <td>1977</td>\n",
       "      <td>5</td>\n",
       "      <td>2020</td>\n",
       "    </tr>\n",
       "  </tbody>\n",
       "</table>\n",
       "</div>"
      ],
      "text/plain": [
       "      plant_code   plant_name gen_id technology  capacity  op_month  op_year  \\\n",
       "6728        6149  Davis Besse      1    Nuclear     925.2        11     1977   \n",
       "\n",
       "     ret_month ret_year  \n",
       "6728         5     2020  "
      ]
     },
     "execution_count": 6,
     "metadata": {},
     "output_type": "execute_result"
    }
   ],
   "source": [
    "eia_op[eia_op.plant_name == \"Davis Besse\"]"
   ]
  },
  {
   "cell_type": "code",
   "execution_count": 7,
   "metadata": {},
   "outputs": [],
   "source": [
    "eia_op.loc[eia_op.plant_name == \"Davis Besse\", \"ret_month\"] = \" \"\n",
    "eia_op.loc[eia_op.plant_name == \"Davis Besse\", \"ret_year\"] = \" \""
   ]
  },
  {
   "cell_type": "markdown",
   "metadata": {},
   "source": [
    "### Nuclear power plants planned for installation"
   ]
  },
  {
   "cell_type": "markdown",
   "metadata": {},
   "source": [
    "The second sheet in the ``3_1_Generator_Y2018.xlsx`` data file, named ``Proposed``, is a dataset of generators that are expected to be installed in the future (after 2018). I'm going to follow a similiar procedure as before to read in the data, but this time I'm not reading in any retirement month or year columns (since power plants not already installed don't have planned retirements). I'm also going to be reading in a column titled \"Status\", which will be further explained below."
   ]
  },
  {
   "cell_type": "code",
   "execution_count": 8,
   "metadata": {},
   "outputs": [],
   "source": [
    "eia_add = pd.read_excel('data/3_1_Generator_Y2018.xlsx', \n",
    "                            sheet_name = 'Proposed', \n",
    "                            skiprows = 1, \n",
    "                            skipfooter = 1,\n",
    "                            usecols = [2,3,6,7,15,19,22,23],\n",
    "                            names = [\"plant_code\", \"plant_name\", \n",
    "                                     \"gen_id\", \"technology\", \n",
    "                                     \"capacity\", \"status\", \n",
    "                                     \"op_month\", \"op_year\"])"
   ]
  },
  {
   "cell_type": "code",
   "execution_count": 9,
   "metadata": {},
   "outputs": [],
   "source": [
    "# only keep nuclear plants\n",
    "eia_add = eia_add[eia_add.technology == 'Nuclear']"
   ]
  },
  {
   "cell_type": "markdown",
   "metadata": {},
   "source": [
    "The reason why I read in the **Status** column is because the EIA dataset uses a number of code conventions as the statuses of each generator. In the ``LayoutY2018.xlsx`` file, in the ``Reference Tables 4-6`` sheet, there's a table titled \"Table 6. Proposed Generator Status Codes and Descriptions\". The different codes used to describe proposed generators are:\n",
    "\n",
    "| Proposed Generator Status Code\t| Proposed Generator Status Code Descriptions | \n",
    "| :-------------------------------: | ------------------------------------------- |\n",
    "| CN\t| Cancelled (previously reported as “planned”) | \n",
    "| IP\t| Planned new indefinitely postponed, or no longer in resource plan | \n",
    "| TS\t| Construction complete, but not yet in commercial operation (including low power testing of nuclear units) | \n",
    "| P\t| Planned for installation but regulatory approvals not initiated; Not under construction | \n",
    "| L\t| Regulatory approvals pending. Not under construction but site preparation could be underway | \n",
    "| T\t| Regulatory approvals received. Not under construction but site preparation could be underway | \n",
    "| U\t| Under construction, less than or equal to 50 percent complete (based on construction time to date of operation) | \n",
    "| V\t| Under construction, more than 50 percent complete (based on construction time to date of operation) | \n",
    "| OT\t| Other (specify in SCHEDULE 7) | \n",
    "\n",
    "I don't want any cancelled generators that have been previously reported as planned (ones with the \"CN\" status) or indefinitely postponed generators (ones with the \"IP\" status). I also won't keep ones with an \"OT\" status. Thus, I'll only keep generators with certain status codes:"
   ]
  },
  {
   "cell_type": "code",
   "execution_count": 10,
   "metadata": {},
   "outputs": [],
   "source": [
    "eia_add = eia_add[eia_add.status.isin([\"TS\", \"P\", \"L\", \"T\", \"U\", \"V\"])]"
   ]
  },
  {
   "cell_type": "code",
   "execution_count": 11,
   "metadata": {},
   "outputs": [
    {
     "data": {
      "text/html": [
       "<div>\n",
       "<style scoped>\n",
       "    .dataframe tbody tr th:only-of-type {\n",
       "        vertical-align: middle;\n",
       "    }\n",
       "\n",
       "    .dataframe tbody tr th {\n",
       "        vertical-align: top;\n",
       "    }\n",
       "\n",
       "    .dataframe thead th {\n",
       "        text-align: right;\n",
       "    }\n",
       "</style>\n",
       "<table border=\"1\" class=\"dataframe\">\n",
       "  <thead>\n",
       "    <tr style=\"text-align: right;\">\n",
       "      <th></th>\n",
       "      <th>plant_code</th>\n",
       "      <th>plant_name</th>\n",
       "      <th>gen_id</th>\n",
       "      <th>technology</th>\n",
       "      <th>capacity</th>\n",
       "      <th>status</th>\n",
       "      <th>op_month</th>\n",
       "      <th>op_year</th>\n",
       "    </tr>\n",
       "  </thead>\n",
       "  <tbody>\n",
       "    <tr>\n",
       "      <td>24</td>\n",
       "      <td>649</td>\n",
       "      <td>Vogtle</td>\n",
       "      <td>3</td>\n",
       "      <td>Nuclear</td>\n",
       "      <td>1100.0</td>\n",
       "      <td>U</td>\n",
       "      <td>11</td>\n",
       "      <td>2021</td>\n",
       "    </tr>\n",
       "    <tr>\n",
       "      <td>25</td>\n",
       "      <td>649</td>\n",
       "      <td>Vogtle</td>\n",
       "      <td>4</td>\n",
       "      <td>Nuclear</td>\n",
       "      <td>1100.0</td>\n",
       "      <td>U</td>\n",
       "      <td>11</td>\n",
       "      <td>2022</td>\n",
       "    </tr>\n",
       "    <tr>\n",
       "      <td>484</td>\n",
       "      <td>61075</td>\n",
       "      <td>UAMPS Carbon Free Power Plant</td>\n",
       "      <td>NPM1</td>\n",
       "      <td>Nuclear</td>\n",
       "      <td>50.0</td>\n",
       "      <td>P</td>\n",
       "      <td>5</td>\n",
       "      <td>2026</td>\n",
       "    </tr>\n",
       "    <tr>\n",
       "      <td>485</td>\n",
       "      <td>61075</td>\n",
       "      <td>UAMPS Carbon Free Power Plant</td>\n",
       "      <td>NPM10</td>\n",
       "      <td>Nuclear</td>\n",
       "      <td>50.0</td>\n",
       "      <td>P</td>\n",
       "      <td>2</td>\n",
       "      <td>2027</td>\n",
       "    </tr>\n",
       "    <tr>\n",
       "      <td>486</td>\n",
       "      <td>61075</td>\n",
       "      <td>UAMPS Carbon Free Power Plant</td>\n",
       "      <td>NPM11</td>\n",
       "      <td>Nuclear</td>\n",
       "      <td>50.0</td>\n",
       "      <td>P</td>\n",
       "      <td>3</td>\n",
       "      <td>2027</td>\n",
       "    </tr>\n",
       "    <tr>\n",
       "      <td>487</td>\n",
       "      <td>61075</td>\n",
       "      <td>UAMPS Carbon Free Power Plant</td>\n",
       "      <td>NPM12</td>\n",
       "      <td>Nuclear</td>\n",
       "      <td>50.0</td>\n",
       "      <td>P</td>\n",
       "      <td>4</td>\n",
       "      <td>2027</td>\n",
       "    </tr>\n",
       "    <tr>\n",
       "      <td>488</td>\n",
       "      <td>61075</td>\n",
       "      <td>UAMPS Carbon Free Power Plant</td>\n",
       "      <td>NPM2</td>\n",
       "      <td>Nuclear</td>\n",
       "      <td>50.0</td>\n",
       "      <td>P</td>\n",
       "      <td>6</td>\n",
       "      <td>2026</td>\n",
       "    </tr>\n",
       "    <tr>\n",
       "      <td>489</td>\n",
       "      <td>61075</td>\n",
       "      <td>UAMPS Carbon Free Power Plant</td>\n",
       "      <td>NPM3</td>\n",
       "      <td>Nuclear</td>\n",
       "      <td>50.0</td>\n",
       "      <td>P</td>\n",
       "      <td>7</td>\n",
       "      <td>2026</td>\n",
       "    </tr>\n",
       "    <tr>\n",
       "      <td>490</td>\n",
       "      <td>61075</td>\n",
       "      <td>UAMPS Carbon Free Power Plant</td>\n",
       "      <td>NPM4</td>\n",
       "      <td>Nuclear</td>\n",
       "      <td>50.0</td>\n",
       "      <td>P</td>\n",
       "      <td>9</td>\n",
       "      <td>2026</td>\n",
       "    </tr>\n",
       "    <tr>\n",
       "      <td>491</td>\n",
       "      <td>61075</td>\n",
       "      <td>UAMPS Carbon Free Power Plant</td>\n",
       "      <td>NPM5</td>\n",
       "      <td>Nuclear</td>\n",
       "      <td>50.0</td>\n",
       "      <td>P</td>\n",
       "      <td>9</td>\n",
       "      <td>2026</td>\n",
       "    </tr>\n",
       "    <tr>\n",
       "      <td>492</td>\n",
       "      <td>61075</td>\n",
       "      <td>UAMPS Carbon Free Power Plant</td>\n",
       "      <td>NPM6</td>\n",
       "      <td>Nuclear</td>\n",
       "      <td>50.0</td>\n",
       "      <td>P</td>\n",
       "      <td>10</td>\n",
       "      <td>2026</td>\n",
       "    </tr>\n",
       "    <tr>\n",
       "      <td>493</td>\n",
       "      <td>61075</td>\n",
       "      <td>UAMPS Carbon Free Power Plant</td>\n",
       "      <td>NPM7</td>\n",
       "      <td>Nuclear</td>\n",
       "      <td>50.0</td>\n",
       "      <td>P</td>\n",
       "      <td>11</td>\n",
       "      <td>2026</td>\n",
       "    </tr>\n",
       "    <tr>\n",
       "      <td>494</td>\n",
       "      <td>61075</td>\n",
       "      <td>UAMPS Carbon Free Power Plant</td>\n",
       "      <td>NPM8</td>\n",
       "      <td>Nuclear</td>\n",
       "      <td>50.0</td>\n",
       "      <td>P</td>\n",
       "      <td>12</td>\n",
       "      <td>2026</td>\n",
       "    </tr>\n",
       "    <tr>\n",
       "      <td>495</td>\n",
       "      <td>61075</td>\n",
       "      <td>UAMPS Carbon Free Power Plant</td>\n",
       "      <td>NPM9</td>\n",
       "      <td>Nuclear</td>\n",
       "      <td>50.0</td>\n",
       "      <td>P</td>\n",
       "      <td>1</td>\n",
       "      <td>2027</td>\n",
       "    </tr>\n",
       "  </tbody>\n",
       "</table>\n",
       "</div>"
      ],
      "text/plain": [
       "     plant_code                     plant_name gen_id technology  capacity  \\\n",
       "24          649                         Vogtle      3    Nuclear    1100.0   \n",
       "25          649                         Vogtle      4    Nuclear    1100.0   \n",
       "484       61075  UAMPS Carbon Free Power Plant   NPM1    Nuclear      50.0   \n",
       "485       61075  UAMPS Carbon Free Power Plant  NPM10    Nuclear      50.0   \n",
       "486       61075  UAMPS Carbon Free Power Plant  NPM11    Nuclear      50.0   \n",
       "487       61075  UAMPS Carbon Free Power Plant  NPM12    Nuclear      50.0   \n",
       "488       61075  UAMPS Carbon Free Power Plant   NPM2    Nuclear      50.0   \n",
       "489       61075  UAMPS Carbon Free Power Plant   NPM3    Nuclear      50.0   \n",
       "490       61075  UAMPS Carbon Free Power Plant   NPM4    Nuclear      50.0   \n",
       "491       61075  UAMPS Carbon Free Power Plant   NPM5    Nuclear      50.0   \n",
       "492       61075  UAMPS Carbon Free Power Plant   NPM6    Nuclear      50.0   \n",
       "493       61075  UAMPS Carbon Free Power Plant   NPM7    Nuclear      50.0   \n",
       "494       61075  UAMPS Carbon Free Power Plant   NPM8    Nuclear      50.0   \n",
       "495       61075  UAMPS Carbon Free Power Plant   NPM9    Nuclear      50.0   \n",
       "\n",
       "    status  op_month  op_year  \n",
       "24       U        11     2021  \n",
       "25       U        11     2022  \n",
       "484      P         5     2026  \n",
       "485      P         2     2027  \n",
       "486      P         3     2027  \n",
       "487      P         4     2027  \n",
       "488      P         6     2026  \n",
       "489      P         7     2026  \n",
       "490      P         9     2026  \n",
       "491      P         9     2026  \n",
       "492      P        10     2026  \n",
       "493      P        11     2026  \n",
       "494      P        12     2026  \n",
       "495      P         1     2027  "
      ]
     },
     "execution_count": 11,
     "metadata": {},
     "output_type": "execute_result"
    }
   ],
   "source": [
    "eia_add"
   ]
  },
  {
   "cell_type": "markdown",
   "metadata": {},
   "source": [
    "### Already retired nuclear generators"
   ]
  },
  {
   "cell_type": "markdown",
   "metadata": {},
   "source": [
    "The third sheet in the ``3_1_Generator_Y2018.xlsx`` data file, named ``Retired and Canceled``, includes all retired generators. Same as before, I'm using pandas to read in the Excel file:"
   ]
  },
  {
   "cell_type": "code",
   "execution_count": 12,
   "metadata": {},
   "outputs": [],
   "source": [
    "eia_ret = pd.read_excel('data/3_1_Generator_Y2018.xlsx', \n",
    "                          sheet_name = 'Retired and Canceled', \n",
    "                          skiprows = 1, \n",
    "                          skipfooter = 1,\n",
    "                          usecols = [2,3,6,7,15,23,25,26,27,28],\n",
    "                          names = [\"plant_code\", \"plant_name\", \n",
    "                                   \"gen_id\", \"technology\", \n",
    "                                   \"capacity\", \"status\", \n",
    "                                   \"op_month\", \"op_year\", \n",
    "                                   \"ret_month\", \"ret_year\"])"
   ]
  },
  {
   "cell_type": "code",
   "execution_count": 13,
   "metadata": {},
   "outputs": [],
   "source": [
    "# only keep nuclear plants\n",
    "eia_ret = eia_ret[eia_ret.technology == 'Nuclear']"
   ]
  },
  {
   "cell_type": "markdown",
   "metadata": {},
   "source": [
    "Again, the EIA uses various status codes for each generator. In this case, I'm only interested in generators labeled as \"RE\" (or retired\" status."
   ]
  },
  {
   "cell_type": "code",
   "execution_count": 14,
   "metadata": {},
   "outputs": [],
   "source": [
    "eia_ret = eia_ret[eia_ret.status.isin([\"RE\"])]"
   ]
  },
  {
   "cell_type": "code",
   "execution_count": 15,
   "metadata": {},
   "outputs": [
    {
     "data": {
      "text/html": [
       "<div>\n",
       "<style scoped>\n",
       "    .dataframe tbody tr th:only-of-type {\n",
       "        vertical-align: middle;\n",
       "    }\n",
       "\n",
       "    .dataframe tbody tr th {\n",
       "        vertical-align: top;\n",
       "    }\n",
       "\n",
       "    .dataframe thead th {\n",
       "        text-align: right;\n",
       "    }\n",
       "</style>\n",
       "<table border=\"1\" class=\"dataframe\">\n",
       "  <thead>\n",
       "    <tr style=\"text-align: right;\">\n",
       "      <th></th>\n",
       "      <th>plant_code</th>\n",
       "      <th>plant_name</th>\n",
       "      <th>gen_id</th>\n",
       "      <th>technology</th>\n",
       "      <th>capacity</th>\n",
       "      <th>status</th>\n",
       "      <th>op_month</th>\n",
       "      <th>op_year</th>\n",
       "      <th>ret_month</th>\n",
       "      <th>ret_year</th>\n",
       "    </tr>\n",
       "  </thead>\n",
       "  <tbody>\n",
       "    <tr>\n",
       "      <td>165</td>\n",
       "      <td>360</td>\n",
       "      <td>San Onofre Nuclear Generating Station</td>\n",
       "      <td>2</td>\n",
       "      <td>Nuclear</td>\n",
       "      <td>1127</td>\n",
       "      <td>RE</td>\n",
       "      <td>8</td>\n",
       "      <td>1983</td>\n",
       "      <td>6</td>\n",
       "      <td>2013</td>\n",
       "    </tr>\n",
       "    <tr>\n",
       "      <td>166</td>\n",
       "      <td>360</td>\n",
       "      <td>San Onofre Nuclear Generating Station</td>\n",
       "      <td>3</td>\n",
       "      <td>Nuclear</td>\n",
       "      <td>1127</td>\n",
       "      <td>RE</td>\n",
       "      <td>4</td>\n",
       "      <td>1984</td>\n",
       "      <td>6</td>\n",
       "      <td>2013</td>\n",
       "    </tr>\n",
       "    <tr>\n",
       "      <td>307</td>\n",
       "      <td>628</td>\n",
       "      <td>Crystal River</td>\n",
       "      <td>3</td>\n",
       "      <td>Nuclear</td>\n",
       "      <td>890.4</td>\n",
       "      <td>RE</td>\n",
       "      <td>3</td>\n",
       "      <td>1977</td>\n",
       "      <td>2</td>\n",
       "      <td>2013</td>\n",
       "    </tr>\n",
       "    <tr>\n",
       "      <td>1322</td>\n",
       "      <td>2289</td>\n",
       "      <td>Fort Calhoun</td>\n",
       "      <td>1</td>\n",
       "      <td>Nuclear</td>\n",
       "      <td>502</td>\n",
       "      <td>RE</td>\n",
       "      <td>9</td>\n",
       "      <td>1973</td>\n",
       "      <td>10</td>\n",
       "      <td>2016</td>\n",
       "    </tr>\n",
       "    <tr>\n",
       "      <td>1368</td>\n",
       "      <td>2388</td>\n",
       "      <td>Oyster Creek</td>\n",
       "      <td>1</td>\n",
       "      <td>Nuclear</td>\n",
       "      <td>550</td>\n",
       "      <td>RE</td>\n",
       "      <td>12</td>\n",
       "      <td>1969</td>\n",
       "      <td>9</td>\n",
       "      <td>2018</td>\n",
       "    </tr>\n",
       "  </tbody>\n",
       "</table>\n",
       "</div>"
      ],
      "text/plain": [
       "      plant_code                             plant_name gen_id technology  \\\n",
       "165          360  San Onofre Nuclear Generating Station      2    Nuclear   \n",
       "166          360  San Onofre Nuclear Generating Station      3    Nuclear   \n",
       "307          628                          Crystal River      3    Nuclear   \n",
       "1322        2289                           Fort Calhoun      1    Nuclear   \n",
       "1368        2388                           Oyster Creek      1    Nuclear   \n",
       "\n",
       "     capacity status op_month op_year ret_month ret_year  \n",
       "165      1127     RE        8    1983         6     2013  \n",
       "166      1127     RE        4    1984         6     2013  \n",
       "307     890.4     RE        3    1977         2     2013  \n",
       "1322      502     RE        9    1973        10     2016  \n",
       "1368      550     RE       12    1969         9     2018  "
      ]
     },
     "execution_count": 15,
     "metadata": {},
     "output_type": "execute_result"
    }
   ],
   "source": [
    "eia_ret"
   ]
  },
  {
   "cell_type": "markdown",
   "metadata": {},
   "source": [
    "### Power plant locations"
   ]
  },
  {
   "cell_type": "markdown",
   "metadata": {},
   "source": [
    "The ``3_1_Generator_Y2018.xlsx`` file that has been used thus far includes information on generators, but it does not provide information the each generator's location. Instead, that infomration is provided at the power plant level, in the ``2___Plant_Y2018.xlsx`` file. So, I'm going to read in that file as a dataframe as well.\n",
    "\n",
    "I'm going to read in the Plant Code since it is the unique code that I'm going to use to match across dataframes. The longitude and latitude are needed to map the power plants, so I'll be reading those in as well. And finally, even though the city and state where the plant is located won't be needed for mapping, I'm going to use that information to put on the tooltips of the map."
   ]
  },
  {
   "cell_type": "code",
   "execution_count": 16,
   "metadata": {},
   "outputs": [],
   "source": [
    "plants = pd.read_excel('data/2___Plant_Y2018.xlsx', \n",
    "                          sheet_name = 'Plant', \n",
    "                          skiprows = 1, \n",
    "                          skipfooter = 1,\n",
    "                          usecols = [2,5,6,9,10],\n",
    "                          names = [\"plant_code\", \"city\", \"state\", \"latitude\", \"longitude\"])"
   ]
  },
  {
   "cell_type": "markdown",
   "metadata": {},
   "source": [
    "## Create dataframe of operating (or soon to be operating) generators"
   ]
  },
  {
   "cell_type": "markdown",
   "metadata": {},
   "source": [
    "### Use operating generators that are NOT planned for retirement"
   ]
  },
  {
   "cell_type": "code",
   "execution_count": 20,
   "metadata": {},
   "outputs": [],
   "source": [
    "eia_op_notret = eia_op[eia_op['ret_year'] == \" \"]"
   ]
  },
  {
   "cell_type": "markdown",
   "metadata": {},
   "source": [
    "### Combine operating generators (not planned for retirement) with planned additions"
   ]
  },
  {
   "cell_type": "markdown",
   "metadata": {},
   "source": [
    "I'm doing this because these are the generators that are going to be just be deemed as capacity added during the entire duration of the map's time slider."
   ]
  },
  {
   "cell_type": "code",
   "execution_count": 21,
   "metadata": {},
   "outputs": [],
   "source": [
    "df_op = pd.concat([\n",
    "        eia_op_notret[[\"plant_code\", \"plant_name\", \"gen_id\", \"capacity\", \"op_year\"]], \n",
    "        eia_add[[\"plant_code\", \"plant_name\", \"gen_id\", \"capacity\", \"op_year\"]] \n",
    "        ])"
   ]
  },
  {
   "cell_type": "markdown",
   "metadata": {},
   "source": [
    "## Create dataframe of retired (or soon to be retired) generators"
   ]
  },
  {
   "cell_type": "markdown",
   "metadata": {},
   "source": [
    "### Keep operating generators that ARE planned for retirement"
   ]
  },
  {
   "cell_type": "code",
   "execution_count": 22,
   "metadata": {},
   "outputs": [],
   "source": [
    "eia_op_ret = eia_op[~eia_op.ret_year.isin([\" \"])]"
   ]
  },
  {
   "cell_type": "markdown",
   "metadata": {},
   "source": [
    "Combine currently operating generators planned for retirement with already retired generators"
   ]
  },
  {
   "cell_type": "code",
   "execution_count": 23,
   "metadata": {},
   "outputs": [],
   "source": [
    "df_ret = pd.concat([\n",
    "            eia_op_ret[[\"plant_code\", \"plant_name\", \"gen_id\", \"capacity\", \"op_year\", \"ret_year\"]],\n",
    "            eia_ret[[\"plant_code\", \"plant_name\", \"gen_id\", \"capacity\", \"op_year\", \"ret_year\"]]\n",
    "            ])"
   ]
  },
  {
   "cell_type": "markdown",
   "metadata": {},
   "source": [
    "## Create time series of capacity for each nuclear plant"
   ]
  },
  {
   "cell_type": "markdown",
   "metadata": {},
   "source": [
    "### Get a sense of years needed"
   ]
  },
  {
   "cell_type": "code",
   "execution_count": 24,
   "metadata": {},
   "outputs": [
    {
     "data": {
      "text/plain": [
       "1969"
      ]
     },
     "execution_count": 24,
     "metadata": {},
     "output_type": "execute_result"
    }
   ],
   "source": [
    "min(df_op['op_year'])"
   ]
  },
  {
   "cell_type": "code",
   "execution_count": 25,
   "metadata": {},
   "outputs": [
    {
     "data": {
      "text/plain": [
       "2027"
      ]
     },
     "execution_count": 25,
     "metadata": {},
     "output_type": "execute_result"
    }
   ],
   "source": [
    "max(df_op['op_year'])"
   ]
  },
  {
   "cell_type": "markdown",
   "metadata": {},
   "source": [
    "### Loop to create time series for currently operating generators and planned installations"
   ]
  },
  {
   "cell_type": "code",
   "execution_count": null,
   "metadata": {},
   "outputs": [],
   "source": [
    "un_op = df_op.plant_code.unique()\n",
    "l_op = []\n",
    "for i in list(range(0,len(un_op))):\n",
    "    dat = df_op[df_op.plant_code == un_op[i]][[\"plant_code\", \"plant_name\", \"capacity\", \"op_year\"]]\n",
    "    dat = dat.rename(columns={\"op_year\": \"year\"})\n",
    "    dat = dat.groupby(['plant_code', 'plant_name', 'year']).sum().reset_index()\n",
    "    first = dat.sort_values(by='year').drop_duplicates(subset = 'plant_code')\n",
    "    df = pd.DataFrame(data = {\"year\": list(range(1969-1,2028+1)) , \n",
    "                              \"plant_code\" : np.repeat(first['plant_code'], len(range(1969-1,2028+1))),\n",
    "                              \"plant_name\" :  np.repeat(first['plant_name'], len(range(1969-1,2028+1)))   } )\n",
    "    df = pd.merge(df, dat, on = [\"year\", \"plant_code\", \"plant_name\"], how = \"left\")\n",
    "    df = df.fillna(0)\n",
    "    df['op_capacity'] = df['capacity'].cumsum()\n",
    "    df['net_capacity'] = df['op_capacity']\n",
    "    df.loc[df.capacity < 0, 'net_capacity'] = df.capacity\n",
    "\n",
    "    l_op.append(df)\n",
    "    del df\n",
    "    del dat\n",
    "    del first"
   ]
  },
  {
   "cell_type": "code",
   "execution_count": null,
   "metadata": {},
   "outputs": [],
   "source": [
    "seq_op = pd.concat(l_op)"
   ]
  },
  {
   "cell_type": "markdown",
   "metadata": {},
   "source": [
    "### Loop to create time series for currently operating generators planned for retirement and already retired generators"
   ]
  },
  {
   "cell_type": "code",
   "execution_count": null,
   "metadata": {},
   "outputs": [],
   "source": [
    "un_ret = df_ret.plant_code.unique()\n",
    "l_ret = []\n",
    "for i in list(range(0,len(un_ret))):\n",
    "    dat = df_ret[df_ret.plant_code == un_ret[i]][[\"plant_code\", \"plant_name\", \"capacity\", \"op_year\", \"ret_year\"]]\n",
    "    dat = pd.melt(dat, \n",
    "                  id_vars = [\"plant_code\", \"plant_name\", \"capacity\"], \n",
    "                  value_vars = [\"op_year\", \"ret_year\"],\n",
    "                  var_name = \"type\", value_name = \"year\")\n",
    "    dat = dat.groupby(['plant_code', 'plant_name', 'type', 'year']).sum().reset_index()\n",
    "    dat.loc[dat.type == \"ret_year\", \"capacity\"] = -dat.capacity\n",
    "    dat = dat[[\"plant_code\", \"plant_name\", \"capacity\", \"year\"]]\n",
    "    dat = dat.astype({'plant_code': 'int64', 'year' : 'int64'})\n",
    "\n",
    "    first = dat.sort_values(by='year').drop_duplicates(subset = 'plant_code')\n",
    "    \n",
    "    \n",
    "    df = pd.DataFrame(data = {\"year\": list(range(1969-1,2028+1)) , \n",
    "                              \"plant_code\" : np.repeat(first['plant_code'], len(range(1969-1,2028+1))),\n",
    "                              \"plant_name\" :  np.repeat(first['plant_name'], len(range(1969-1,2028+1)))   } )\n",
    "    df = pd.merge(df, dat, on = [\"year\", \"plant_code\", \"plant_name\"], how = \"left\")\n",
    "    df = df.fillna(0)\n",
    "    df['op_capacity'] = df['capacity'].cumsum()\n",
    "    df['net_capacity'] = df['op_capacity']\n",
    "    df.loc[df.capacity < 0, 'net_capacity'] = df.capacity    \n",
    "    op = df.loc[df.year < min(df[df.capacity < 0]['year'])]\n",
    "    ret = df.loc[df.year >= min(df[df.capacity < 0]['year'])][[\"year\", \"plant_code\", \"plant_name\", \"capacity\", \"op_capacity\"]]\n",
    "    ret['net_capacity'] = ret['capacity'].cumsum()\n",
    "    \n",
    "    df = pd.concat([op, ret])\n",
    "    l_ret.append(df)\n",
    "    del df\n",
    "    del dat\n",
    "    del first"
   ]
  },
  {
   "cell_type": "code",
   "execution_count": null,
   "metadata": {},
   "outputs": [],
   "source": [
    "seq_ret = pd.concat(l_ret)"
   ]
  },
  {
   "cell_type": "code",
   "execution_count": null,
   "metadata": {},
   "outputs": [],
   "source": [
    "df_all = pd.concat([seq_op, seq_ret])"
   ]
  },
  {
   "cell_type": "code",
   "execution_count": null,
   "metadata": {},
   "outputs": [],
   "source": [
    "df_all.head()"
   ]
  },
  {
   "cell_type": "markdown",
   "metadata": {},
   "source": [
    "## Merge with power plant location"
   ]
  },
  {
   "cell_type": "code",
   "execution_count": null,
   "metadata": {},
   "outputs": [],
   "source": [
    "df_all = pd.merge(df_all, plants, on = \"plant_code\")"
   ]
  },
  {
   "cell_type": "code",
   "execution_count": null,
   "metadata": {},
   "outputs": [],
   "source": [
    "df_all.head()"
   ]
  },
  {
   "cell_type": "markdown",
   "metadata": {},
   "source": [
    "## create ranking for power plants"
   ]
  },
  {
   "cell_type": "markdown",
   "metadata": {},
   "source": [
    "### get final year only"
   ]
  },
  {
   "cell_type": "code",
   "execution_count": null,
   "metadata": {},
   "outputs": [],
   "source": [
    "df_2028 = df_all[df_all.year == 2028]"
   ]
  },
  {
   "cell_type": "code",
   "execution_count": null,
   "metadata": {},
   "outputs": [],
   "source": [
    "df_2028.shape"
   ]
  },
  {
   "cell_type": "markdown",
   "metadata": {},
   "source": [
    "## create order of plants based on capacity in final year"
   ]
  },
  {
   "cell_type": "markdown",
   "metadata": {},
   "source": [
    "This helps with how the circles are overlaid in the map"
   ]
  },
  {
   "cell_type": "code",
   "execution_count": null,
   "metadata": {},
   "outputs": [],
   "source": [
    "df_2028['abs_capacity'] = df_2028['net_capacity'].abs()"
   ]
  },
  {
   "cell_type": "code",
   "execution_count": null,
   "metadata": {},
   "outputs": [],
   "source": [
    "df_2028 = df_2028.sort_values(by = ['abs_capacity'])"
   ]
  },
  {
   "cell_type": "code",
   "execution_count": null,
   "metadata": {},
   "outputs": [],
   "source": [
    "df_2028['order'] = range(1,66)"
   ]
  },
  {
   "cell_type": "code",
   "execution_count": null,
   "metadata": {},
   "outputs": [],
   "source": [
    "df_2028 = df_2028[['plant_code', 'order']]"
   ]
  },
  {
   "cell_type": "markdown",
   "metadata": {},
   "source": [
    "Merge with full dataframe:"
   ]
  },
  {
   "cell_type": "code",
   "execution_count": null,
   "metadata": {},
   "outputs": [],
   "source": [
    "df_all = pd.merge(df_all, df_2028, on = 'plant_code')"
   ]
  },
  {
   "cell_type": "markdown",
   "metadata": {},
   "source": [
    "## export to csv"
   ]
  },
  {
   "cell_type": "code",
   "execution_count": null,
   "metadata": {},
   "outputs": [],
   "source": [
    "df_all.to_csv(\"nuclear_capacity.csv\", index = False)"
   ]
  }
 ],
 "metadata": {
  "kernelspec": {
   "display_name": "Python 3",
   "language": "python",
   "name": "python3"
  },
  "language_info": {
   "codemirror_mode": {
    "name": "ipython",
    "version": 3
   },
   "file_extension": ".py",
   "mimetype": "text/x-python",
   "name": "python",
   "nbconvert_exporter": "python",
   "pygments_lexer": "ipython3",
   "version": "3.7.4"
  }
 },
 "nbformat": 4,
 "nbformat_minor": 4
}
